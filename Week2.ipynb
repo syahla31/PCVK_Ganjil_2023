{
  "nbformat": 4,
  "nbformat_minor": 0,
  "metadata": {
    "colab": {
      "provenance": [],
      "mount_file_id": "https://github.com/syahla31/PCVK_Ganjil_2023/blob/main/Week2.ipynb",
      "authorship_tag": "ABX9TyO6BhxRZNS4kwuwvjp6z8J3",
      "include_colab_link": true
    },
    "kernelspec": {
      "name": "python3",
      "display_name": "Python 3"
    },
    "language_info": {
      "name": "python"
    }
  },
  "cells": [
    {
      "cell_type": "markdown",
      "metadata": {
        "id": "view-in-github",
        "colab_type": "text"
      },
      "source": [
        "<a href=\"https://colab.research.google.com/github/syahla31/PCVK_Ganjil_2023/blob/main/Week2.ipynb\" target=\"_parent\"><img src=\"https://colab.research.google.com/assets/colab-badge.svg\" alt=\"Open In Colab\"/></a>"
      ]
    },
    {
      "cell_type": "markdown",
      "source": [
        "**Laporan Praktikum Pertemuan 2 - Pengolahan Citra dan Visi Komputer**\n",
        "---\n",
        "Nama: Syahla' Syafiqah Fayra\n",
        "\n",
        "NIM: 2141720015"
      ],
      "metadata": {
        "id": "KgAZyTXlKPW9"
      }
    },
    {
      "cell_type": "markdown",
      "source": [
        "### Langkah Praktikum"
      ],
      "metadata": {
        "id": "fdT5dZJqLL6n"
      }
    },
    {
      "cell_type": "markdown",
      "source": [
        "1. membuka file Google Drive yang sudah ada. Contohnya pada kode program di bawah file image dengan nama kitten01.jpg akan dibuka untuk diproses lebih lanjut."
      ],
      "metadata": {
        "id": "bA2GwJLTLTvy"
      }
    },
    {
      "cell_type": "markdown",
      "source": [
        "2. OpenCV membaca image dan menyimpan dalam channel warna BGR (Blue Green Red)\n",
        "Tampilkan nilai pixel dan image"
      ],
      "metadata": {
        "id": "fXo5zPAIL6i3"
      }
    },
    {
      "cell_type": "markdown",
      "source": [
        "3. Menampilkan citra Grayscale, melakukan resizing, melakukan Flipping, Menyimpan citra hasil"
      ],
      "metadata": {
        "id": "tfNEvp7SMDMV"
      }
    },
    {
      "cell_type": "markdown",
      "source": [
        "*   Cari citra grayscale, selanjutnya dipilih untuk ditampilkan colormap dengan warna ‘gray’\n",
        "\n"
      ],
      "metadata": {
        "id": "NrDaFDhpMG58"
      }
    },
    {
      "cell_type": "markdown",
      "source": [
        "* Dari citra grayscale, selanjutnya dipilih untuk ditampilkan colormap dengan warna\n",
        "‘magma’"
      ],
      "metadata": {
        "id": "aEGPRrvDMQU6"
      }
    },
    {
      "cell_type": "markdown",
      "source": [
        "* Citra RGB di resize dalam ukuran panjang 512 dan lebar 1024"
      ],
      "metadata": {
        "id": "ZYrqWoIHMweS"
      }
    },
    {
      "cell_type": "markdown",
      "source": [
        "* Citra RGB ditampilkan dalam ukuran yang lebih besar dengan posisi gambar terbalik"
      ],
      "metadata": {
        "id": "Cujd1JO0Mymo"
      }
    },
    {
      "cell_type": "markdown",
      "source": [
        "4. Membuat bentuk Geometri 2D dari OpenCV. Diawali dengan pembuatan black image\n",
        "dengan tipe data int16."
      ],
      "metadata": {
        "id": "pjI9ham4M0gH"
      }
    },
    {
      "cell_type": "markdown",
      "source": [
        "\n",
        "\n",
        "*   Kemudian menambahkan bentuk persegi panjang sesuai koordinat pt1 dan pt2\n",
        "\n"
      ],
      "metadata": {
        "id": "Jo-tsEaFM35I"
      }
    },
    {
      "cell_type": "markdown",
      "source": [
        "* Selanjutnya ditambah menambahkan bentuk persegi sesuai koordinat pt1 dan pt2\n",
        "yang tertulis pada kode program."
      ],
      "metadata": {
        "id": "XiHnh-qANRn3"
      }
    },
    {
      "cell_type": "markdown",
      "source": [
        "* Tahap selanjutnya ditambah menambahkan bentuk lingkaran sesuai radius yang\n",
        "tertulis pada kode program."
      ],
      "metadata": {
        "id": "_5Y_6eatNVfw"
      }
    },
    {
      "cell_type": "markdown",
      "source": [
        "* Kemudian dilakukan penambahan garis sesuai koordinat pt1 dan pt2 sebagai berikut."
      ],
      "metadata": {
        "id": "QKJwvRJbNZ8h"
      }
    },
    {
      "cell_type": "markdown",
      "source": [
        "* Penambahan text dengan font yang telah tertulis dengan ukuran yang sudah\n",
        "ditentukan."
      ],
      "metadata": {
        "id": "1VluSYGTNd7V"
      }
    },
    {
      "cell_type": "markdown",
      "source": [
        "* Pembuatan black image kembali dilakukan dengan tipe data int32"
      ],
      "metadata": {
        "id": "uKws4V3fNhSq"
      }
    },
    {
      "cell_type": "markdown",
      "source": [
        "* Berikut adalah kode program untuk inisialisasi NumPy array dengan tipe data int32"
      ],
      "metadata": {
        "id": "f5q6klInNpUY"
      }
    },
    {
      "cell_type": "markdown",
      "source": [
        "* Array tersebut kemudian di reshape sebagai berikut"
      ],
      "metadata": {
        "id": "FRCu1EgFNtAk"
      }
    },
    {
      "cell_type": "markdown",
      "source": [
        "* Penambahan polyline pada black image kedua yang telah dibuat."
      ],
      "metadata": {
        "id": "WN04g_qqNxJ4"
      }
    },
    {
      "cell_type": "markdown",
      "source": [
        "5. Setelah semua kode selesai simpan “Week2.ipynb” pada GiHub Anda dengan memilih\n",
        "File kemudian “Save a copy in GitHub”."
      ],
      "metadata": {
        "id": "ds5EQWAvN0xQ"
      }
    },
    {
      "cell_type": "markdown",
      "source": [
        "### Pertanyaan"
      ],
      "metadata": {
        "id": "mXos4xZUN4Vk"
      }
    },
    {
      "cell_type": "markdown",
      "source": [
        "1. Apakah perbedaan gambar yang ditampilkan tanpa dan dengan matplotlib?\n",
        "  > Jawaban :\n",
        "\n",
        "\n"
      ],
      "metadata": {
        "id": "hAB2IIk_OAAD"
      }
    },
    {
      "cell_type": "markdown",
      "source": [
        "2. Apakah perbedaan dan pengaruhnya pembuatan black image antara tipe data int16\n",
        "dan int32?\n",
        "  > Jawaban :\n",
        "\n"
      ],
      "metadata": {
        "id": "JrwY0GiZOXMh"
      }
    },
    {
      "cell_type": "markdown",
      "source": [
        "3. Apakah kegunaan “google.colab.patches import cv2_imshow” pada potongan kode\n",
        "berikut ![Tugas 3.png](data:image/png;base64,iVBORw0KGgoAAAANSUhEUgAAA3wAAAAuCAYAAABzuhtDAAAAAXNSR0IArs4c6QAAAARnQU1BAACxjwv8YQUAAAAJcEhZcwAAFiUAABYlAUlSJPAAAFY4SURBVHhe7b3nlyTZmd73RKT3WVlZvrpMd7X343owM8DAEG5gd7nkLiUeynzTB/0Nkr7ps86Rjo50xENxSS3JJZe7SwALN4PBTGMwPe1tdZe3WVXpvc8IPW9EZnW17wEBogd7n56ojIy4ce97TcS8v7w37tVMCkpKSkpKSkpKSkpKSkp/cNK7n0pKSkpKSkpKSkpKSkp/YLJ6+NrtNmT7rUnToesuuBwmYDDujoGO6kdUUlJSUlJSUlJSUlL6ncvpdFqb6KnAp4Hgxr/yH2DCNA0Y1pnnkECftWPwOrn675d0Zl6zyo15l/yz4F70MmCVQe/aLDLE5t/AaIlHMvuHNlhY8qUxT8YLly/rLuX2Ke5Ppd+NeNNb9z0b/++y/VtJ2LtKSkpKSkpKSo/oOYCPzgq9/bbRRKvTRkegDQ44NQ9cDn4KzVA9oHmc9jo7Twv3Byd63Cwy1Jv85L7kXXMALhc3fnaL7oWS1JXRApq0u92xHUkBP7HZ6RaceM465IUdXt9iXHIRmwocAklSBp/hNiDlI3UqZSNA5Wa5SD3uhePfiyyo4H3aaaItRmpOuHQnbdN//7Y9UwQjec50v332JXVhosPG3+mYMDSd94/Uhca6+C1VhtQx67tj1bkJTXfw/tK5fYZvLiUlJSUlJaXfiZ4JfJo4Fe0KsuUEEtUMiu0moSWEqHc/xoJBhOnxftad+N+VNBZjKQ8srGgo1+jSEgwCERMDo9zCgIfl/sIVG/3IWkbD1o6GFG1vGSbIDRiZMDE8Qptp8HP5lKShahFIbDJw2EQ0CkT8bHBd6Pu9SVioa4P4zNJz+Wnskd7ZchbI5lmnjGyEZRLyEYgZ5+9VzIzRriFXWkeGoNF2xjAaiCPI+9P5wkKAgJEM+SYIWfDC76yM34u10hikITyUvoCbnPt0dkm+Wignk8gVm6i4whgdDCPodVpQ9lsRzYJRR61WQ6bShscXZPxu+NwO+7ySkpKSkpKSUld7gc/xP1MGPWDZbOmElizSqSt4784P8OPVT3AlfRcb5QLq5gQGA0FEPC7rV2vLV+IV4hbZ/x4nCSc9DnKeTlH36O6VVjx7tt1/n168fHdYouz3jon/JhFah/hH/K/e+cdKwnbDPVESZm9a3U+tCaTWNfz4XR2ffKjjvQ80XFhkfuIEqH6CgscKel/d634rPuFj4ur5tJa653a/U9Y+w+RXdNy8rOH993W8/1MdP3lPh9lnYuwwbZaeyT3XPJyOFYeEaQAbt3T85f/nwFyZQETQHYp9esi16kskaXTT6pX1I5L8dfNkffLQw8F0Nu3kBm3bAuiLw806cItNDLgnKVsSD7deOVnHec3yZR2/ZJn89I6GwX0m4n2A7yl+tnVtd3useuf35ovGiD1PvOYByT3SgVFL4tr8X+CnS5/g13kDA8ERxLx+ljkjtsJ0/zHSB+8zUe9+lMHbcsz+Zw8QfZy652n0AzZ2K8y0zlm7XfVivC8Zdlour2M7u4aNmgmH0826cFq9yLsV/0Dkz6GH89WN5oGEKQvkRN1w8k1rlZHP7mBtfQOJxDZS6RJqrG+HxwOn4zl6SntpiYwiVj78JT768Do+TOgYHYsiGvLC1ctP76Nrq31A9uWo1EXXfkuyb4frXS7G6NU0tjcW8Is7a6hpAQTleWw1xPtXPqBuWrtlI9pTDg8U1Z561DQBWOurda2SkpKSkpLSZ0vWiK+us27/3RUdCp5oVDewuvUJPt5YQw5DGI+/hJdGjuNgXwQhGZcozgm9AflnmAKLHbS5Gdax+xI3weTxTqdlDQ1ty8tP3QDW9d1rDaNtAadsHVO+y3t/e2N6PjEqMClrSKF0WMrwQtl2HRcJQ+dfzssmQy4fluXa8LgM4bPikeutMw+KZqIt8chQP0mLG7MBgxH4oiaOHTNwbJyuU13H3UUdmwWgzmv2+k7WvqTF41Za3P8Nsm1Jotq1SeISmyQ++3S3Lu6ft8pFjllnAW+fgfGDBg5Pmgg3dKzc07GxraHOa+xC6YoXSD4l/l75WEEEXJj5ekHD0qyO1U0NmRLQ2BPmN8malIfUWc9u2X84IquuevbwU4LsSr4QPm99pONHP3Dg51eARBaWUy9hHxDj3VtGVjnxuxyrZnUkVnXMLWvIMr66pCf5kmu6l++KB3br9OE0emKcVjl207HsFlufW3Lv8b7rNFjGZYJsCdl6DTU2Iisaub+4J/ekfY/Z95V8dvj54CRKVkhewuMszBYN6zwuY9b9yvPW/Sz3uxyzT9kSm+wDcv9K2LbEaYXjH343zArB6jw+vPnv8B/uXcfdYhZlxtcW2yybP4XYLq1nCAuv1d3seOy8WHl/OEJJgwettMwWGultbMzeweVLl/Dxxxfw0fkLuHT1Hha3CX6s4OevEqbHfDQbrINqDVU2fBnaacsqAGuzyljqgA2r9/yT+tibjn3cHnVhbxJGyobPZ6OBeqWAzXQWmUod1SbLTs5b8T2UWSkHee724pE4GMR6FsgmXx66xJYd7rGnlJSUlJSUlD5z2u3hEydEXAENTWTTF3F56QO8l/Vh/9S38a0jX8OXx49hfzgAr6ODeqOMMrcanYx2m85mI4tco4iG4SBBOu3hZHRGW80icrU0MrUsso0CCs02TM0Bh0Bdq4ZcvYJynQ5fs4BSs0HHt4qSfG/V0YYLTulJsP5Zpj1R9GvA6JBPARk68znCVaEIFPO2Y645mVFe36nzHM+n0naYSoNuGo/Le2bWu2aMi0lbQzIlTDZHVmC8LXo+LsYh2ZJJO5o8ltuxz+eZToFxFflZp+PO7CPYb+LwIRPjXkLTlo4Fnj901sCJfUDMb5lsOVQGoaPIc1ZatKvCeMXxc8o7YpKWHfSZkriaVdpEe9IZ2kT76Qtaw0mlJ1fiIhcgz/NW3nm+VOExXquT350OE94QMDJtYjSio7mm4+YaMPWSgdMvm4hJHOL9cWsxnhLTEHuztF3iadBol5tbS0NqTcPHF1hvwyYGB1kWjL9KQKoyMXmX0epZs6x+irplXGPcVW70by2bJV81pu/w2XkSm9osQzlu2cP8lZgWzbDeH5TzDUJnYVXDD//KiZ9/rCHBY4N9Jpy0WWDAzbgEvB383mSZ5RmPVYa9umcZunguSWifX2F9Mr3DB034JV+MW/Ilv4FI+5J8CXTXeDzDOKQtSv12BIbFHm6SN3IGqmIz22ua6Uj7sdoOz0t9iT0S1xPFCjfYeGr1PJJV3l/8bDqiCAX242j/Pgz6vMxPlVCbQ6ZRZ1sosNzKhIMmtyLBsIIKgU1nhWhmnfEUeR+WUWcjKtTlfi2jQnA0abDcg3IXmmxATZ5L1hkn79Fis4Iqw+iai3mn4QYhkNCZI3Q2BQjbFZSqO8jwvm7wJpM4jHYR+XoCl+/+O/x89hf4sBxiXYTgdzv4/JEytJ8dz/fOG+2TMsgXWMYF5Mq0ucpniCk/WrH8Ok0er/E5wueH/MLVrZxmjUBWI+gRxnStifLSBtZWtrBZrvJZ1kI1lWJ7YpnoYQwMRRDwOK1rn2qRQFuL+eWDI5cpou4KITA2iaOT/YgGPKxWAWmCGh8u9QrLvsit0mQdNtjGeF2tSbudbEe6FbbNxl/iAyXPh1iZ+aqycbRl1mMn66OZZ9tK406ygXA4hIibDYr1Vqnxmcm60K33+qSHzkCLN0+ZZVPgQ6pUYfnwRjV5zsH7vV2nPSyHjtQN0+31AJoCrbwRit1fp6Q+VA+fkpKSkpLSZ097e/juD+nsSC9bHdXqNla2L+Li1m1cb4QxGpvAeCAIrzh/Dhf9uiy2U3dwJzGL1WqbTtYG1tPXcX37DjaqXng9QYRcOgEjjUT6Jq7v3Mat9F0s5Vcwm8mhBi9cJK9OaQkfbS5gJXsTq4VFLBW2CU8pLCWvMyz3jSjC3gB8zq4z8gSfw4IdQkFyXsPlizpm7xGwFvh5h9s8AYCOpC8sMELY4fFrNzVcuaNhbVHD0paGipwPEkw89NsIEztLGm5fZ7i7GubuaVZPVa5mA5GXUAOC1dachk9+reMew84zXUnr7oKGMglCwpGLrfe7Shs6rtwiKNChP9IFvj6vGG2nlVvXcOe2jos3NCwyzo0E4YZ2Shw+2vNMR5MS2BWo2ZjVcZXx3KTdK8sECR7TCTNBxqUTZFK07/pN5ot5X2Tel1c0FJiWkwAq79lJc9BJLeUU7b2i49IiMPnyHuCTtOgDFndYbkznDsv5Hm2eJ0wlShr8ERMhXp9jeV34REebZSBAlWf4ZSlrAjH9UQxGGJfk6ykZE6hO85pF5mlWymWZ1/P73bt2r6NzyLTKx8O8l1I8znB3ZllfzLuE2yGUsenAxzTyBNBbBNCPL9OOtIYWnV0XCawg+2w8faP2O4oG21CC6Vxl3UsZLnF/h1DWYhn2sd5zhOB51vdKgfkMaSgKyLNMlwsaHW8TQYYTiKxmNdy7zbJmvd5hPMtsH3na42C9h9jONCnDbWDuqoYbV3XMsQ1IXRQbJtxspyHWRe/HhyfL5P2VQzK3iE9kuHUtTzANI+rbh6nIEGI+P9qVJaxtfYwPUklsp+ewlV2jrTvYKK7gxs4ytqo1OJigq8n7fesq7m3PY6OUxmruNmZTK1gplVCHH0GvDx5iU6W4xPvlY6a3iHvZe1jKLTN8lQARgc/thadD6Epew68T69ghCVeqm9jc+QQXd/i9KeBAcKqt43bmJi5vXMRscQcpPYCAl9BFECoxjN8dRdBFsJEG8kSxcVCGAFSOtt+eY50vYyWxhe0soVXzsW0QbCpZ3L6yjAoh0hHww8cb0mHUkN5cxeoWQbnmICBrqGU6cIdGcPi1l/HKS6exz19FPZ1FgvfB0IERa0imm+Y80SLp2pZeVj6/lhfXsJUrouaPwDs8gQODfBbyoaHzudos7bA+NpFYWcf6QgLrKykCWAbriQTLn9Da9ltw6DVKKOxs4t7CIpZX1/hM2EK2zOelN8Y25obPKCCbTWM2UYCLsN7mMzObWMNmgs9MMwC3L8A0+bzslJFeY7nM89m6zHi2t7CWJIwyJx6PjtrONrbXWceGDm/EB3cXig0CfTaVwM2NGlxeDwJM06mAT0lJSUlJ6TOnJwBfHY0GnZbEJ7i68TEu0LFbbLQIeW102i00O06Eg31wNDYxv/Iufj77Pi7lTF5XRiZ7FTfWzuNKxk3AGMWQp41S7iZ+fu+n+DiZwCadiFItgTubd7FW90BvFuHKX8e/nr9EB3MB24TBudQaEpUGNrc/wlxmE8vtMezvG0C/vEtj/cps2fuo6GRnFnVc+DsH3iPM7eQ1OnWEul/puLFKJ7wfGB9hMDroH75Lx18AIgs6dTYcbpcZhg77KMNV6Hh/8ksd73+sY52QViZMLM/rdMiYTtREP2GltkxAe9eBH9BZL1c1JAk8Ny4xLcKAK25inFA33KfRgdJs4CMMLhB2pIfvuACf9PDR6a8kmNYHOs4znvk0oZXgsMa0BDJkwpPBOIGFgPQsV6tN+xOEuPd+7MBlAgh9RzQILwYhrW8Y6Gd6FULP+R+yjAhMqxlCEqFkddaBde63vcz7mAYvYc3pYNiUA4tXNAv4HujhoyENppUi+KwRhDdZNtss00WBaMbvHTIwGCRE8fgnBL5twmSNddMsakgtO6z3GFsuExMsgwABynrF7HFiOgKWqxcc+OAnDrx7XkeacZAtaDNhiluWwDfcx2Ji2DRtuMd8bxIEd2jHBvN1g/XlY33GCbv1HZY/28XNOZ1gyvgJikHCl0HACLA+x2cIhwSyHULjhfNMkzC7w/ZRKWvosDwCg8AoAa/Mupxlvq8Ryj0s0xbLcInleYVtJjpqYJjpuWvA8lUHfvFrHbfXgGyGUC3DQDc0GExzkHCpVQimv3LgQ9b9tQWWKRt2hfXlIqDGhlhf8uME0316vQvw5ZEqLuN6+jZub57H1Z0EFqtB3jPTGAuHad9HuHrvL/Ev19IoFVeRyizh9s6qNQnTrc2rvNcq0L3jiLWWcGn+P+H9xetYqrZRN3NYJ0TOpbew0fRjMBRHsEEo2fgl/m7+J7hVaaJQTyKVn8c93rPZdh+i/hiinRS2ln6EfzV3EwulItqNNMqF6/hg9RIWygbv3wiiKGC1LPf6HayXMihYkOqAqRGK9CiGg4RVj9tqi0+V1kYtv4Xla5dx6/YGNtIFVAiN1bbOcuxHfx8LsLiJT354HkkHoTYWRzzo4rMrh8Xb13BnLY+dTh8mRqLoj/ehbyiGWH8IkYgfRjGB9HYe2YoXo0cmeM/7aE833ceKtlpAl7TfA1y+i4V0EbdbQzgxFmG6XjiNMsrbc7hw5ToWlgndK9vYnJ/HTqOERHILW2yYqUIAE2NBuAoJrN66heuLW0iXq6g1ajB0F3zRUcTDPvjNsgVkdxdWUK6U0ahWUS2kkdxcw2olBF+4D0N8ftTTC5i9fgfzSwkk80y/XsQm7cs3DbQcLrQZfmU2g4buQWQ0Ak9bBozy0VTawCrz8JO7DcTirJM+QuRTAVxJSUlJSUnpRdRe4LP+2kN2TJjyfkizhHKzglpHhvvUUG8VUWgUUWzQqTHlPZIm6o0kkoVlLBYzaLpHMNk3g5OBEDrVbaQqWWzmlrGweQnvJ3ZQ90zj8OjbeH3kBE576Wjt0JnZuIeNchLrtQLBZBhhfcQaDlh0cd/tg5sUs5JPM82GPd38U2Q2CHiEkDvXNbQHDBx8zcCJQ4QzOinSs9dHR9zHuNdvEvgICx2C26ufN3DunIEZOuEpwuIVOvtbBMV5QuKl6wQalsoxws5bXzJwiA5/a9OBKzcc2Nh2YJlh793V0BwzcOQVA2cOAWMEAo/0BDGtCCHDmpWSZj/Ocilq+ofYJgieJxgtEfCGp00cP2Yi4tSQoD0XCShbhET6Zruy3pGTeLvfRbJf3CLM0O7zBCoHoevlzxl48y1+njYxRTDSCYArl3X89AoB1WfiJMvnc8z7iXETtU2W2w1CYI7gQch6miR96bFzuE308dqpQwYOz5iI+2kroe8i7V5jWj2TWS3oHzXxCsvo3HE6k4TwWdbBVcKY9GLulg3D7c2XlI8MLmuXdaSYt7Uk62/cwLFXaPsU93OE9vdpMyGqajKwh3XNfO+fMXB0v4l9hM4EQWyW5ZFsmQgRxo6+bmKa54YGCLcHDbx0roPPvdHBUbaTMJ35Zkq33vG7dI1QGjJwlmX0FtvIa2fYnoZN+JlnsU/esWzwc2DCwKkTJg6ybVTW2W42QaeagJdg/hjPHX7X6HTLsN5jk4RJwqb0LC8kCYBZ2n7b7tnLEuhHpjo4cpTpTNqzuErPcK8snibdHUKs7wDOjJzFfn8IBu/TVd6PxZb01LMe2tLLliTYsYi8fQh5mFizDL9rAEPOOtyNbezk8qjUSsiVd7BdLaLmGMSR0XN4bYBhOjtY2riBhVwCy1uf4Mb6VXyUd2EodgqvTX4BrwztR9zYwdXNG7idSSJXb6JByNsszWOplEVNH8DM8Ks44HfBrCWxUSqh5RnFzOBLOBHZh0lXBH3eQzgxdA5v7juLl4f2YdTvgYf37dPveJ6vZ5HdXMDlWxuoBIcxfvwMzp45jdPHDmFmjAAaJPh4/dgXqaJQyGE7XUGj2UKDkFsu1WE6HAjHgvC43AQpH3wRD8vd4H2ZQbqQR4EGeAYiCLhlSGs32SeI6A2TQOYMDWF8agbHpvqtHz6ylQaa3fcpZdbjdrOO7Z0iKsy3f4h596fZft0IBiOsD7b39Szq1RryqTTSG0nUWm70DYxgYuogpiamMN4vvZTdH77kF5F2HYaHIDt+BMePHsHB0SiaW1nkt/ncLGSwencBq9k2b8J9OHj2DE6dPImTY24CZQaLd5Io1erWu5/NFp/3RUL+3RUktnPIs54qFT7zm/Je9vO1RSUlJSUlJaUXW3Qv6T8IVMm7da4w+iITGI2MYMgbhs/Zj/7QFIFuEhPRGMJOBx0je+0neZ/E5Q1hcPAkXt3/dXzn8Nfw+vAg+t1AqbiC5Z3buNsIY9/wW/jqkT/Gtw/+A3xvJIJQPYFEfhM7dNYdvjgmB1/G0fhLmAxM0cE5gyNDhzAVihI2BfboTFlmPkECIYS5cpYOVobgdNTES18w8MpLJo7S0T5xip8EsgjT2qCTPV8Fxk8Z+P4fdfCtbxn4Bzznq8jwPR07aTrqFx24l2a8Rwx8+ZsdfO9PDHzxVRPjdMjWCDRJhtnZ0EGfEKOnmQ7B6tWzBBHGc5RQc+Sgac3E6bZK9WHZrpPMftepatikPTfndeRJUWMEKPp0lsPfLBNOBQZKBM0uPUn19CYmkXkg5LuUi8Z85QkZdwhzqw4TM6+Z+M53DHz7Wya++AaBZJwOYkHHMkHrYkFD3xETX2e+v/OOiW+8CQyS4lLM+3pOe2RCmcdJTmseAm2MZUrYGSbQDUZpSxlY2tGwTUgzBMKoYNzAcULzN75h4ltfAQ47NJQImLcZrsp89DxJ8V1l0hKBlL1sL508TkJ0gGkcf9PEl75h4KufZ30y3c3LGna2NasH0eEEwoTseJwwx7AjPG+wfra3gQLPx6YI+F8mnB9mnY0CUydNfOErLAfa9Srbh3QGNQiWtwm+yxnWNUH5nW8b+C63rzC9UxOERtrRvUXg72N9M19fZpxv8voB5jeXZz1wy0j+xDaWh4SbJsRNsh2arNOthPQsm6iTGGWiFpNxOVjfYemJHGB5cn93NtM95fBYsd4chLihgRP4/PSX8MbISUyHBuB1EVAITPIDjrVGmysIv28a+4dP8L6axGSoH0fiJ/FyfBDTrMdOownT0OF0eBAIjGCc9+LnD34T395PAAu70OZ9vF3ZJKhexd3MDjYcL+O1qa/i28f/BO/MvI1XogEkc6sE/TTy0kPEynC6anASRuMxhj38D/lceBuvDowR7gIIRmZwduLzeC12ADPufsT9p/DKxFfxzZkv4ktjB/kM8MLzjN49WSrBIKCmNpdwI+tE5MgpvPz2W3jrrTfx1quncHJ6gM+sKMJ9I3j59X3woYViimBLmKoQZhpmEPHBYRyb6UdQZrc07AltWo0S8pv3sLyZQtbhQ2z/GOIhL7xyLz+1PnjS4YY7Mor9R07j1TPHcHx6GBGfy3qXridTc6LhiCC87yAOnDyAQ9NuxMcmMLOfkMiHRqTW4L1AOxif5nTC7w0iFuljOY5iMDaMwbDbnnnVukkIvZ4g+saP4vDpc3jjjc/h3KmjGKgb0LI5FItZrCwlkdXiGDh6Fue+wPJ580185bWDGHfpKM7nCYseBAd1eDwVVFJbWL5xG8vrO9ghEMtjpy8WQdDrkVeSlZSUlJSUlD7j6qKJeLMuuD2jmBp7C2dHX8LJ8Chi3hkcHnwbX5imwzB+AKNuOjYMbXR0XhikYzWCWMADX3Qc/fu+hm+e+SY+PzKBPrOEai0FrzuCPrcDQb3N8BodFpflgMFsokJXQtfD9lBCp4G27qFz5WSojvXPtLogn+78WWYTdDwuE0FCRJXwskj4uXVXx0rZtIDB66VDX9SR2WBwv/R2AK6OTCJBp5z+npMOVLumoUEg2iYolARo6IDbE1VoBFvZCCVNG8Bk0e0A9+tLGu5dl95BDct05B1+2sHCsS0Wp0y2vbp/rN3UrHfhWhUgtarh4s8c+NEPabfYGCC4DJiEbcYlwZlmW94vWwDml/lJG8UOi6v4WSOwFrn5h+13xFwChizipkAUYarGvGVKhCxCmibvFvIyq7fQLZM32GEEQmTSDNFj+1eYlgVmhNCVexr+w39y4D/8jQN/+yMdFy4DedonvZHSA2jBKPfH4gTYiJ0H4TtyIQIM0CEYWCkwzrZMfpMA7t0mxKXsnr/exIZiF3kFMZnohjAkk73otN/NfDh1O54qIX+ToPY+y+5vaM9f/0zHe9eBNIHLAkjZ2kyI+Ze0mqy3BmG7QvBvSJ6Zhtjb4PdKy4QhgCmGim08J2UokG31mHGTheiHYibitMvL721eRzOsODqs0wbTqaRZHlsghDvw03cd+MlFRhYiGBKAg7w+HO/gzFuEYQK+vqbh/b914p//H0783//GgZ/dIjzW75fBU2XljfdJo8K22bBmzXz0Mt5jhAyZCMSldeCV+491LzM6Wmst2t1FBEQngu4w4t4Blq2ToQUadbj0Fgwtj2yzTKDzwu2etOJwMi4nr/HxBjONNprtJmSWXpONxMF7vS8QQSw4RA4KYf/k1/H141/DN6YPYNjL+64jkzvVUTdl1sg6KqTfOjdrlk3a9Oys834t51GViWf4rIn1+RF2dFi3TdZXixvj4Q2ieUMIHz2JfqMBPbWBVCGLTD7F504Ifn8/xoLy45Xk38HHUQWFrXlcP/9LLBd0+MYP4eSxMT7bnDKPzjMkcVDMv8zKWWt0UG92ZzAVWUXMLwLhUT7vgvKcY5kTtPsifj4jnWxrhjV82NA86D9AQD89haiWxtL1izj/s/fxwXsXcW1+B5mqlLMBg4BpRsbYpqKI+FlfjF4mufKxrbtZFy2ZsMZwQycUepweONg2rPZLEPY6/PDU23CyLjwxxtfMIZvYQrm6gWSliFSpAoNxxKNBBPhAczzrVyAlJSUlJSWlF15d4BO/RP454NZlE6CzPRbN1OGRd0gExsRpsY4LDtHxo+PhZFiNnrknNIGZoQOYjPYh6nFZ7yGZnQqqJKUaHdMGHcNsXYaFyjk6PYzLnvmRDgw3cfXoctufPG6n/myJPyLOTIUwsnxVxwc/duDjW4S/URMzR01MDMJaL83FxAw6/XVuNYEiOvQZ7pMLCT+mZa9L3q/j9xaBQZYT6HATmNlhuDbDOAiWYnSlqGH1sgPvE3g+ngUKYQMHT5iYJCgKRIr9LCDLNlEvL/JdDjno+PvjTDMqk4aYOHy2g3NvdfDOH7fxZ3/WxvfeNjEl69dJXDJz5LIDP/wLJ/7FXzjw7lUNWRlXKGLtOQmZAqHVAu1gGdTo9Fn1xE3SZbWBxQ2N18gslHWCiUCMzB6ZbtBB5Xkf45CJQqwLuFmg2ZUFh9xMXjd304FffOTArSLBR4ZGnqTtY7BARuqyd5n12c0rfU9UctzoDPsIbCOEQFknWjorCus6Lv3Qif/nf3fiRx9pWJJ3ClmXu5IIZBMxXzIjaIZ14p0mmDFPqTkdv/5AxwIheOCgiTO051A/7RHwlutIxXttEqhtMu8yM+HeyNm8rfqX9fakHTWYlslrBYjk3151o7Ud+u4m9a07WZ8BA362gfAQMH3EwMtvdvDWV9v4p/99G//4HRNn5R1O1uv0yx18409a+Gf/hHX+GhBpyZBPwiq3FNveA2XwGEmPvCTdS9v+Zh3ZtXd3in7rs3dfyda71+Q4w3azZ+WX/8hOqDRqyPGebbvCCBHqQk7CHvi9nUNNgIqAWW2U2Q4JmjzncrkJlBKVDH01reeHy+Fg23EhEprC1MABTPfHEWYhy5NDhjgSwVkPTXs5AdaHZYZlX9fuJ4pPKTehRdYaNAVYCHkssF6bt7IlpM9nkyMyjYloFT5jCxvbGWTTOWihMHyxPt6n8rRj0FYF2fU7mL10EZcXnQiNHMGpE4cwGfOxnUp8T7epZ7cl+4HGtiGla9sjTGm1RRFPyxlpO3b74TfuWJt1jk/VyDBGj5zBy2+8jnNvvIKTU144S0v41S/vYmW7iJqEFbPshHv/dW3kxhtW/nkI1J1qDY1aA03rFwQDDUKvDM2vBll2fi+8PhOFYg07qRYi42Gm3kEpU0C1VCKw8xktXc5KSkpKSkpKn3mJm0/t9Ujk1+kOOpZjKPttOiTcek7NrnjNrmNKx0Z3W7/4yy/KfeFxjPYfQAwZrGeXcCt5F0vZRdwtteAMjGFfZAxDdAjdTKHrpuz+7X08r4yGhjod9KL0HnjpdLsMBGU43SEDY0MmnX8TgT4D+wh//XT206vAbemVWyDAEDBkwpbpKQMDgwYOHTcx7qYrOg/MzWuYv0OI3ADKJKDJKRMDfhNtlljJY1rOkpMAGGJa4/sJliNMixCi02GWyU22EsDmDmFNAIKgkk8C2zsaMoSlDm0aIqCMEkYjMptkFBgmOE0ynpn9wNQoocFH2+iRSv4KmwSbj3T84pc6bt3TkCOACuRK7YUJjvsmTfhTGjbuMW+0fYV5lEXGZViog1C574CB/cx7eQ2YnQMWFpi/JdrlMDE4bmA8RlezyvBbGhK0W2b4FOClf4itTYJVmt/rBM20buWhRbv6afvICAGmz+41FTDstSL5LBModxjXEsvxzg3mm0AUGzMww+v8AogMX9zWMPsx8/Wejk9YJzJRjvSsWU2AkcjyBTXC3A5tWGe+5b28laaJ/adYXv10Txl+m+eqvCDKeEd5LM7rWE12zww/rbhYX6GIPbNnkXnaZDmssoySrH8yMLwsw7FxxuHUsMM07rGMFpeZJu1PMI0Gy64ny1nnpxVvN8Nya+hsC+FBtoNDJqJhAqn0ThL8xieBmRnaTNgb5HFm2+rBk6GcU4eAgwdYB4Rg6U0uSI9hL//PkNGuWu/o7ZQSSNULKBNcGq080lV+rxX5XX5IsUJa4UXydW/c9/cNtDpl5KqyIPod3EyvY5ntzheewoh/AjMxAlDYA1/zApbSc5jbmcNiegMbdRfGYlPYF+1HWCj+EculF9kDj8sHn0OGOEoj8cDvCyPic8LR3kKysIrlXAKbFeaBmbdtfrI0FrYj2M92N4DJ5jayG7R1bQuJrW1s7aTZ5uW9Y+ntdMB09mFkLISAr47tjRR20hqfDRH09wfsoYoEzvLWbcLeBXxybYPPkGGEw0H4Sf6lQpH10ezC0tNlGoTOSh65dJJtKo8Cr22WMkin00ixUstss3YtMK49z9FdSOtK47NWeinrHSc80RjiwyMYivtZdg2kkqxTWUahdwkfAHL9/egEJA0+sd1weoIYjhLYalk+O1hPayxffs4tbqJIKI0dHEEfoc9Nuwu1OrIdN4FvCsFOBZUt2pzRWGa0wRqb3rurlZSUlJSUlD6ruj9Lp0UQ8it/C6XiMlaz61hpx+mgH8Xh2CDiHhluSYe0mUEitYj1Yhlm9CROjkxizE/ngc6G/cu2DAWT35jp5Bc2kOy0kGtso1JZwQpBKBY/hzP9oxh3lHG37qSzOIg+h0anqAFndD+G2muocT/tmMZro5MYlbi77yU9Ih5qE6BWlnRco4MeJJSNjBHMQnS4eU7Wz3MTRqKEHh8/8wSMsgxxpEOTXdGxliO4EIZefdXA8Wk6QoTGelZDXiYEaRIIljVsJjS4CETnPm/g2ACPreqYJ8j5JwmUw0Cczrr06knvkfQQylIAVTqWV6/p1nIBd1eYHvPtZ/pO5tPFz7BcQ0Co0A5Z660mTj7tSift2Sh1holITxjByOT33IYD5y8T9Fi+U4cNnDrGdJmW+M9WLxRhobjOuKQ3sMj0tglCOQIRr5e0woTYBs/XCG30R5EhJK3SLt+wgTPnDLx8mPavEYLvarh5S8c9Qs8Gw3lCBGjxjGlflGBaywv08ZNeeYjwJMMlS1UdhTaheoZxTQADhKPZO7SVnmm7RYghRC4S1hoDJo6/xrI+SkjktQKzadabDIu9TRgePi3v2RG+CUIuVmxSJl6hPQvMi6xLWNliuW+yboIm3vqCibMEZGdJI5Ay30zLLXPns6xaeR1ZAvbIMQI80xojTLvdBD2pc+YpxfIx6yby1rIMzBeh1cu60JkXWfcvzTAlAm+K6ckC7VmWcT/hu8J8bBB2cy6W1yuEZB7Lssxus1wjMx0cP0hgl+GghNQU21Wd7UeGAQuwJnmdJvVOODbYXjeuaZhf0LFCSM+wva3zvE7oPHKK7eygiQjDWj2uT5BAT6tKgMnO4nr6Fm5n7mKlVib46oiyDftdfdBq2yiUNjGvHcGpfg8iLJwS890XnSbnrBFpPHD6j2K/r4y17G0sEViq0vXcXsIdNpAM4pga+Rw+N3IE+wNsbEYa6dIVVOBDobKN7WKa7TGGI+Ov8z7dj3EXwSZ3B1dKZba507xXjmEqJDXZ68EXJGE5EMQ6zR2UZdmWchEdRxO5Zg2Vts56CCPABvfkZRkYi/REOvksMtjQMhusUwJLNotclvCbLbNtuuDxEk49Lt4bMulKmQBWJvA00HbFMX1oAuNDIXhYviYfHsnZj3Hl4ixmd1h20yPwa3VUclm2kwbvnwDBR4BVnmZPEO+/Tr2M4s4KlpeW+SxawvJ2HslS2xrK3uFDweXU4WjksZhpINQXR5+rDS23gRZBOuRxQJOZT8seTBxjA2plkVhdwepmEulsDoUsQbjphiM+wfuDAOhroVzMYynXRnxgBCOxCKLuNqq5NNaXG/CPDGHkQBwxQmI1x2vzBT4TMkilElikXXo/4zlxhADfQTmzhs2CgaZ/GIcPTsOVX0d2M4Vcux/jxw8z7gD8tP1xj14lJSUlJSWlF1uPX5bBAj7BNQMNOielZgstzxgODcxgPz3VsEwfSBkdOnZ1WaOLTmT/MRyJjyBOB4uu4q5T53SGEPTGMEzHZru+hsXCbWzVG/BFvoQvzbyBl0lJXjSQ1UKYiA7zeh+vcSMc3YcxZ4UwQG/aN4VTdGjiXu/uRBSPiIfaVQ0pOv2LhIPtsokcQUeWDli6oePCnI4Oo5ogjIyPmNjnJwwQIG7epLOdIJwcMfDmF028epxOPX3ayKDJfDJexiFT/d+eIxTxunNf6eCLrxJUCD/pZR2r0vtDR77IcAKAC7cJnPNMS5Zu8Gtobuv4yXsEFgJBg3DURxs6DJ8lcDmDhBFCaX8/7SGMdQgt9+7omGNadwlKO4QFD8FgZNQetmjN00CT6gUTUcLAiVeAU1M8J3ZakMm4ZJFzfs8QHGQGUVkbcIvxOhn/MNMaG2IZhGGtPXd3VsMKIUWjb/nGVw28/SYB2cl8XNJx8byGS7M25EQIIDIENsc4pVdTFmXfx2N+pplaBdZWNVRYZvEZ05rJcpA2HRxiXLQjz7RlEfjkho4tlnedx976Xgeff412EMZlpJx0wWmELBld2XQYeOUNmV2VdcLycdCpF+C7dVPDrTnaTZDbIBS6WBevfdnAd86YGO0zCQgMS8DaWQMW5tkWCKXTzM+gT8CY9spEODymsxyjLKcA85EnwK8u2WvfyRINkyd5TuqEtsuSGYVuGcpyE0us3xzPHSToe2lrnXmXCWtOHpU0gEaZAMr0R1kvM5OES4aTyWMcMkkL617WZ5xnG5xnW3JETAzTHo2AN/tTHR9f1HGJdX5viWXMMjnD/H+b23TcHvL6mNZ+X2YHteIyFhIf4e+2b2K91YbL7SNI0/FvplimA8yry3LWm/7DOBkLIeaSRbmDiEcn4dVr8HjiiIamMebOETyvYTa3ig0CkNyvDeckDo98Ee8ceA2HomFEwsOIuJ0Y7PBermzhdnEbea0PB0Y/j6/vP4tDkSh8Zg21Rg4pzce6OYmDsUkM+QW6ujbv5kiH3xeB3xuAWVrCenUFs6UCsp0AhgPjBBoPvE+lXW6sUE8ghKGREEqEo/XFedxb38Bmtoa2J4o+6cULea1eXgfjaxVkYpISGhNHMLMvjsGgm3axfTey2F7e4T1XQ10j+FSzfD5sYC2RwnbV4H04gsFYEGFrAhb7ofnwJovOtysEquWbuH7jBu5tFFCsEvbaBQJ3GRXehIFQGDGvgUrHiVisn/sOeIwmnPH9iPi9hE8nTD4zJ6ZcKGVWcYfx3Jidx/LyMhJptrn+aZz78lnMDEcQ0lqo89lc6ngwNDCIgbCfzwIDrXoN5bID4eF+DBFcBwaGEDAJ+bw5FhcWsLSVRCF+CoeOnsQbh+LwOQX40oRJgjbzOT09jT4k0KizbbknMHN03FpSQoa1PrUtKikpKSkpKb2Q6vkqIs2k2u02ZBOwkPc4mg06K4S+bJtQ540iSmdSZs8T5pL1+soyVKhB58rdj35fiI6l0xoiJdfvShZGbqTp0KWRbVV4rYcAQ6ALxBDW2mg2S9hudeB3+eAWyOy0YLpC8Bl51LlfMunQ+YIIMG77PZhH3Q6ZNTF9TcfPf+DAv/81cPydNk7S0Y9WNGRuOvBXH+oYfauDb/9ZG68QoNyEw60dggjhS/A2Sid/aFCzhlVaEELVCSrZFKwJXGpNINRvz0YZD2so0YH/93/hwPuEkBmmdXrCRIRxrsm7bZ9oGHizg68Rok4OSw+R3ctjlynTY4IOpkN/D0OEAi8LzBRYZVpbme67ZR1yLsP08/pBhhOgoR+KJsErSUCtMr9BwmCc8Ga9c8bIJW6ZUKWW0egcEnhLBB9e4wpqiBNg4wQUci7a0huWNJFivmSiEfrbGBlnWjETzg7hjWCWpHMpvWMygYQM0ZROFPkMM47hEUImj1d4fYJhK8wbfWurB9HNcC1CVtirwUtb0oSzTMHOv0h6NccJO30y+Qrjk2FoUp0t5kugeYfpRgmNEebNTwjTmhqu/Vsn/uZdAmjNwNe/a+DwOGGSQDXAuhgWKJQ81UEHWYbKMh7u+6OsA8Jtm3XoChFOaZus+afTbpO2lGi7AKgApAwd7CNcjdEuecdTFk2vFAmPBL500bSGVkJ+d2Ca07TL2eD1BLkyjR9g/QVYf1WGT9F+N0E/yvYh7w7KMNQ861TyVGD+JK9SS3HC6jDboMSTJzDLxDIVnpPTMpkOfXdrhlepc2bt6TLp4Dd5j1aTWGsU7ZkdWaDS8yfxhdyjiMqMmaggY/Sh36PDbTbQ4D3u4T3W6eTYRhwEQx/0/Hn8u0t/jl/nPRid/sf4CjMb9w8RSoYwzAL0saClrjqtLKqVFaw2moQN5sMZRdw3ghF/iM8GWtypolZLY6tZ4bl+9MlC4fLOXve+ekBmm20jh0xxHal2w+o19Lnj2BcYQFQWXn8i8FmFSVl3FKOpIbedQr5IoOuwDFx+3h99iIX53GBBWmmzQup5QlixikZQZh328pkjDZxlxWdZxZrVskLwkeGSPCY/fsli7d4gIrE+a7ZN60cXNpiHsyJ1q0vjIrw1q3xe5ooEbhlqyZMClLobHt480UgQIb3NNtqG081jWgdmrYiOO8J2zFh589frDgQjGuu1gnwuj1JVlsUxeP/54A9GMDgSg492O5hWvdHg87cDj9sLn8fNe8pAu1Fn+27Rbg98spC6RFvKocC4cqUqmrReiwwhThgeCrr4HG+gVsyi1DDRccmMoEE4+LwuFZuotv3oGwhZ7/DJpC0P51tJSUlJSUnpxZdT+Iyb6BHgsw7Ki/8kQmvKC8N+r8Z2Ja2zdELoeFgAZtiTLtgndtX77mA43fa67AOUITPGmTwmy0CII0XnVWTNGGg5WzxoORl0mB478+B9CfDtXNbxLoHvP14GznynjbPHCB50zJPXHPjpBQ1Db3TwlT82cGYMiBAmZDKavXHKhBGSv57EDIc1+cIeq8W0NiHyugN/+W91nF8Gjn2XaU2ZCBEuN3j8oyuEp88ZePvrBl49xOOSDV76iP08YDBN6zjD6EyLHw9IHMYOIey+TGtGTbuIaK9dZA9Erjv3xNO7tBtW8kcf1sq7dap73mAaVt1ys66X43vitMRjMomL2CPVpjsetbcnKww/e+VnqZtWzxY5YznElFS1/PBgxSdpyHGGFzi7/pdO/PBjHfM+A//Nf9fBqwcJVaw/iUOWqLCCWtc/nO9ugt1875YVD0t7cUhmupKmJ2Wwe0TO77FdYurVhaRlcYj13U5fCkaOSTiZCKaXLwfLaK+k3qx2JvnnNVaeu2b2rpFYBNx75j5TjFSGLNo/3Oy9Oylm3LbPOmnl08q/5F2MkPuL52RSpfzWz/GvL/wb3KiO49SJ/xH/1fFx9FnjHXkv8t7u2SNA6WQjfCBnNN6+R+Wo/VywhhjLe8C04cl5EWPs+982mB+My5SZLh9I4FnSWdaSl24klrp274lH8irhJE8yk6acsk9rtIHl2P31q3fUMophzXoRqXQK6XwJ5XqnZ6oUn1Vv0na8wT5E4wTJ/gj8TqmTbqBddcvC7OZX4pXDtEkmr5HJciRCqRtDoPUBe7qSsmE52yVt152MenigvHjMetZa9datEdaX5O++SXbZ9K7p9VrKu4AdualYf5oc261XJSUlJSUlpc+qngh8e7X3f/aP+DCfSg+7Df95sT0gRlXc1HDzIwd+/gsgHzARCNORqQKFDTpjIwZe+rKBc68DIyHAGpX6kDkP+Io9MczjrC5t6bj4no5fXTSR9NpDAbUKrFko3X0mXvkq0zsLjMdYyA9HsEePTfM/V3vTe1L8zxFGHNkH1A33aUz+VHE8bJNsbIp3f+LAL65oWGRBfvd7HZzebwP7I3pCWr+pnqOInqmH8//E+ma43aDdMJ8+TTuGR+1+SqKWeL7TQCn9Ef7TjR9htjqAmYN/hu8eGCNY0/HvhnpYe9MRfXp77+u3GddvR12LCE8kHhilLSzcu4t7KwlsFxqWfVZPKncE4jotHdGRA5g8dBCHDsiwVxniaUehpKSkpKSkpPT71B8O8FFGy37vaumOhnkZasjvVg8Qkz10ysDBg8BQPzNteWvcHjLneYFPZDLePAFzeU7D7JY9e6NMzOH2mJg6ZOLIEVhDKAUspTPlcXGIFPDt0eNsMoC0zMi5pSGnGzh0mHXYB2sY7CN6Qlq/qZ6jiJ6pzwbwUZ0OGrUNzCXnkGn7EZN37/pCLOcnT1KyNx3Rp7f3vn6bcf121LOIlkhPWTWD9dVlrCXSyJRlfLINeyKpYxnyHIqPY2RyAhNj/QjwxlfAp6SkpKSkpPQi6LmA77Miy0Wj6bIUgix5IO+NyVAyGRUVHwRkgkEBsIedy08lXmxdL84cgbImaRXs9+5k6JjMItlHqAwFuO+wnUGl30xW2XFrN1inrEsWN/ysQylXa0ic0m9PMtTQaKLWqaBt6izjALwOpzUM8O+v7JtXBkWasih8tYJKrY5Ga3dwK6GP5xiMTAiXNwAfHzJ+r9saNqqaqJKSkpKSktKLoE8JfPY7IPZbIS+exPGSX93pp1p6wFWlQybLJfzGltsZt9SDOBntpcv7dLJvH9oNs/tu1wutntUvpqW75dwDPH7/VO+2KX0qyRuQNqjwDjfuv9/191d2Adh/WTbWe24PPFUekkCzbKqFKikpKSkpKb04eg7gs50/WT+rLe+y2H1mBCtZI8uemEH0Oxma+CnVA4QnSWyUX+LFH5OZFwXYZAIU8eEeaz/jk7DMtpXrXvheUCu+J6T5IpTH02R07JkIDeZGZ8bEmRWTH5z04verXeD7LZskE1yIUy75l5kVJf+SxouU99+HHv4hZ+8UH38/ZZdHr1SkNJ71jOk11r/vJaekpKSkpKT04uiZwKcRCTqtCnLlbWzXcigaTTrJQYS8UxgL8NNtL8L+QvjKXWfsST6Z2Gg0gHJBs9Zy88haeXFZjNwe9vmIGFG9AmR3gFzTXpIgzvAycWHvh/7PJvBpaJTXkalmkDaCiIeG0efxweuQIWovsuG/hR5m5q/DdlzK55AtGXDHBhAN+e1p7l/sSvudSwHf02SXjQI+JSUlJSUlpc+a9gLfQwuvi3RorTxy2Zs4f+9neG/jMq5l5pCoFlHHPsR9AUQ8ssaVDQq9rdfrZ/lIezwfa4mHXrgHnMv710kY2ecfOx7rP7qippzrBn+S5Lx9qQVwe7dulGgVgeUrDvyrv9Kx2TARHrEX+LaW45LrxSzZ5Bp+lDY1XHrPgZ9d1lF1mxgcBUKyPlo3PiutPfu7G6/dKytc1w7ru/3xgKww3KQnsRePpV5RdY/JeStc9/Cz1Y1AvFWpA92BwtaPcXn+B/hBYguadwIxXwRBV69u7F4/a18SsT575yQ2iU/27x/v9ZLZf0T3jb5/Xva7h63TElM3Dn6zN/lux2UFlXpnftutAorlBDZLFbTghMvpgouFYLUjy5xexE8SA0k6uhPt7CyWrl/Ary7MIe/qRzAcQkjWGZNC7ckKa9vM5P9eSEpz7z+lvZLyYKlIu3ja1g2ppKSkpKSkpPSiSJZe6i319JBfS+eFJ1qNLWxsX8L55Ru4V6iirvnhd3MjJVoOsinrR9mbYXbQMdpoczMIFz2XXyROkGmda6JltNCS892fy+VTwne613eMjjXsrmPa+3LuU4nBZda8Vsvemk17CKfEYjQ0ZFd1/OoDHVfv6khV7ePybpi8dyfv+cnkK5KkxCGTsiQ3NCwtA9sZoN7t/JTz1sbwMhOodW13k7QeeF+QOxJGZvEUe6w0uqf2Sji7xXDNrt2yb8Ul6XTDSJodyZOc57nHxfNkSZnLsNw2avVtJPOzWCDA75TLaDAuO4jUI+tC6sEqf9atDH9kPciQXhkGaccja4hJvXPfOsc6ta7ZY2xXxu552aQ+e0FkR+reTlMulTYk7actaVqnJZ0WyuVFzK/+HD+du4BrqQTSzRptFvvkeiuyZ8uyjXmoEx7TCSQ2tpAusk23JY29svPU6fZ2t1lhVhrPm46SkpKSkpKSkpLSC6gHevisnheCQTZzGVeWzuO9bAAHDnwf3z32LXx98gyOxvoRcZoEjzLKjQpq9Ig7LVmUOIdMo4imIUDogFO6Z8TJZrh8LY1MLcPzJRRkpjuN5wkNRquGXL3KeDIoNwsok4zarQqK9TwqrTo6cMHR7SESdT8eKwEwmdUxnwIyBLRsnvsFggSvcbgZoKZhe0HHhzc19B8yceq0iXEvUGaYfIlAR/BxORkPgaqYI+wlNRSrGpx9JqYPmJgcs3v4aDJqhMUSgbCY5vXcrzPdCj9zjEe40Ho/kJ+dOpCmLWmGE1vKDGcv7G1vFugQBku0NcUwYnOxCBQYT4nHWUiwemFpU03CMK4MPyUeyZeb56RMnlIsFM8KTLUryNayyFR3UGBZOQPDONh/GvtCMYSchLF2GYVmBRXWYYX1VGqy/DtNFPg916iiacr7foSsNkGJ5+usq0ojh1wth3yTxzoy8Ycs8sz6EohjuHw9izTrPcf6LDLutsH61J1wMu8GC6dcL6HSlh8BCFf1NLKNAtuHwKEDLq2NRjuJ1a1f4MM7f4u/Xk2j6Qkg5HNBZyV14LHSckk762bz8aItpPFWne0ql0W+zO/eQew7OIOxeAQhb29IJ/PWaqBeKqHIyirys1QXWzS4XA67nJ/WAJWUlJSUlJSUlJReIO3t4dt9h69FJ94ksjQaaSys/C3+7s5P8Tf5cbx59Nv4xvRJHItE0Of1QmtmsJmax0oug7ZvHH16HrnqGtaqdYQjn8OZoQOYDHmgtfNIZe/iZnoFmwTCuuZi7PtwbOQ4jvjc8NYS+HU2h1ZnE4bO9LUYBjQ3gW8LbWcfBmKv4+TAIKIeAT8ZOmXZ+6gITgJi6VUNN64T7AoaqiQvUzNx9FXDWhsvQuC79iMn/qd/ruHANzv4R3/SwTFTw+0bOnYYwcABA2cPEaLyGmbvMp45ghyBzREBjpw2cOIow/g0pHludYfXyJIMSaBBCPQwDLOGNCFw8qCBowTEQQ/BbEPHxdsa1rdpn0BWxMShEwYOTQOjYQIhoS67wvTmdMxv2b13HcJciyAanDDxMtM9OECI5PULNxy4J+BImzx9BiYO8vwxIMqw1vqCTxQrmUBeLCziUnoWa+UdAlodDmccJ4a/gmMDk4g78qgXZnGRQFSulQnpbfKxFwP+CNLNPPIsy8HwUZwdGoBeX0Myl0Cu7UOrTYBqE4xMD8L+Izg1dpj1HkGgU0I5fxeX04tYJqnWCFxEZwxFzzG9GRwKu9EureHG1iIymg8BTxDh+iLmq1nk9CEMhQ7jlT4XipVruLz8U/x84QI+KQ9iZt9pnB6exFRwDFN9b+J4XxSDfqF56ollYMAgoOY2V7C0tMq6aKDlHMShlw9jYjyGiFfalsBcC5WdTSSW1rCayDJPbI+uPvSNjOPo4UmWhQduK6D899QCV1JSUlJSUlJSUvq967Hv8HU6NcLeNla3LuHqxq9xIb2AhXoLHhed5nYLjY4ToUAEjuY2ltc/xIfzH+GadBcZDZQIDPOJq7iVdyMYHES/p4VS9hZ+Mf8+rhAMM60qgTKL5Z0FbDTopNMJdxbv4K+WrmOzsIFskXFmE0jWO0imr2Iln8RaZwSTkTgh002oeTrwZZc0XPyxjl/e0ZBryLtjhKcOEB8jqBGafB27h++XBMLIPhPDUWDnigPvfaIhQcjqGwGmhlgwVR1bWxoWFzVsLOpY2CFg9ZvYN0lodOjY/ETHr36t4xKBsEmwvHdLwxYhMUmglP0ibYn2mYgSALcJfAJ7+TyQSxHa7ulIE+p8BL+RGIGSkHfhfYcFhdu83ihrmGMcsxsaKkFgZj8QKOqYY3rv/1JDxtBQr2pIJRg+RYSKmwQtwmGXeR4vHVqnjnotidVSAtu5BSyn7uJuPotw8BTGo0OIEHnLyfP40cIlzNHQTDmNjeQslsptbJZWCLfLSJRbGPKHUM3fwrXlD/HB5hbyrTpqRo7hN7CUTKPiHkLU7YSjuoCrCz/CR8lNbDaaaLcLKGZv426ugpYexqAvDLN0Fx8tfICPt5axWa1CbxWwmbmO28llrDLduL+P4LmFrQLbYG4bWy0PIqGYNcmM3+FH2DfFeHwIuR12Np/QNqz10toNVPJpZNI72FzPYmezjdD4IGL9IcIm7WWYeiGB1Xt3Mb+wjmSpgTaBr5BNIlMooeKMIBZkujJRkQI+JSUlJSUlJSWlz4Ae/w6fSehrV1GupJGryvC6GlqdIoq1bTrBSSQrJVQNE22CYbm8htXUTdxMbSBnhghlMYyiiXR2GeulNBK5FSwmLuLd9UWkjCgGYydxJDqGMXMdS5vXcWn9Dtbya5jLb6LQdMOkQ18tF5EwAhZA1irbuJPZQrZRR/sZL2vJcM58QsftX3Fb09BwE+j2GZieJuwR7HyEr56LTt8euQ3gOsHtJ7/WsFID/ASnEUJdgODkDhm81sT+ccBb1zE/r2OZgFUhqJkEyFqW39e45XQEYjraKR3VnIY2CbOR1bDG9LfTGmptftcJfox7H+MbihAQt2jfDR13GaZYN5FbJzjy+2oZGJ4xcOyQCa9TR43AatJmP4F8mzB46WMdl9c1eGjbvkETPkLpyhUdF64RVrMEW+br8SUkRw2YuhMuXxzjsUM46PHAX13HbPIW1kqEmY4Jw2AZ1xLYSBPumiY6Dje02jpWi02CvolIJ4tU+i4yxRxyxR1sZJZwK51CyzWIsdh+TPjdqGdv4NrmEuaSC1hLXsEHK1exVXciFprBsfh+HGSYfOYKw9zBzXyNbSqPnfwcZrfvYDaTQcMzjmFvGP5WCltZxlFxwunbj33hSUz6Igg7BzESnMGRgeM4wvj2hfzwy2r6z5AMm5Uxvb7IIAbHBhALuNBM51Es7FlIu9NANrGKxdVtbNPmyL4pTB88iP1DXnirKSzc3EA6X0VD2uHjC1pJSUlJSUlJSUnphdWu1yxr7LldMQz1H8L+2CQmfH0IuocxHD6Kw4OHcbh/CH0uhpF3teRdNIcJhyeIoZGzeOPgO/jjQ1/EqagHLrOGVHYJC5u3cLMWxeT4l/HOyf8a3z/yDv7JRD+i1VXCxSo26W9rvkHsH3kDpwc+hxnCQXz4NZwcPcb9KMFSYK/9HD62hmZNQyFF0CKY+QlvE4Sn4yf4OQyEPXYmBfq0NrB81YF3f8yN4Df6poHvfNvAF08CUT8QGAKOvmLga//AwOungf6IBidhzhrNx0jkfUCD8YeOmTj3tonToyZOjRt46aSBo+MycJFQSBs0phkbMjG938Qxhj16kOAXBsoZDTspoFAlpCZ1LBYJpATTb/2Rge9/n3Geo90nuR02CFIEyGs6rs3pyA+YOHDAxMvHDezvY4ls6rh1yYEE42o8tYA6MJ1e+CMzODv1Nr45cQ5vxqcQ8fngIVzKUFmdFKw7dG4RxAfO4NjkKzjT34+B8CG8NHQSbw+OYlCrwGjJxCsa3O4g/OHDOLv/a3jn+B/jnf2v4ZinhEyWkL9zjdB3E59kZCmLz+FrR76PPz35Pfzp6W/gmLOEVGYFFzM1VAy2ITfjdLage0axf/Lr+PrRP8I3Jk9jv9+Llj6A4fjn8droObwRGcOI9zBODX0FXzv4PXxj5vN4aTCKmFdeYmQWn9LhZpo6NGcA0bEZHH75VZx56SQOjsbYJhxWvWoacblVws7KBlbSTmgjp/DqV97GF97+Et750kt4bV8UrbsJ5Al8dQKf4j0lJSUlJSUlJaXPmu53k2guON1xDA2cwqE4oc8fR9g1in19Z3Bm5DROD44h7nTCRbfX6BAQEEI0OISovI8X2Yf+qW/gj175I3x14gAG9CJqjW0CpB8hwoQPbcsvl6ucAiHc6tzXND88Ot1oR9uedl/GzFmzPjKMNSHHU7z5rjReP3Kwg7e+b2A6Bqxc1vEX/5cD/+v/4sCf/0DHDYJdnXApzrrMflkoAJU8Yc5tYjJq0H4myfMyBJRJWxO3yLt0tTo/pROoZwIjkN5EBLgR3mQyFbHQR/j1E5pkRk4JavIzv6Hhxg91/NW/0fEvuf3HH+v45J4NepYhDOj1mfBY7/EBVz7S8NHPNczfNdEkwUUCJjSey9COdIWfCeC9d3X8+x/p+HhZQ4N2jw8aCBIsny7LImasY+Wv2m6j0mkR3CQjYoi9WbNu6h7WACHQbPK7gRDh3sFzdYZvSzRWOcii5W5EvAMIO1xwd2gn8ysjK52OBsMWkW81UDVicOg+CyjbhK42r3FpDMTCqXeaVv0aRhU+txfx0CBiTMsTOYQTBLo/fel7+MJYBP0snKZRR5WVIZ+1dgXVpvTMsa20jU8xSyfrsS0TzjRYDA202QisS2mbtbxDu4UmQdb0BuH0+uFiniS86ab9bj/cTZadDHm2IlNSUlJSUlJSUlL6bGkX+GQWQnHm/e4QgrIEgy7vN3ngdRDsvGHr/Sm3jAWlk0y3nxfQ4Xf54HI6oHvC8EVmcGzsKA72xRB1S+9RB7rZoHNOx51bm45+sSEzLBIsHW64GYe92pnMDmpP2y8zPFrT9csxazzec4ggEh41cebrHXzvux18+RUDgy4N63d0nL+mW+/EVQlPEp3mBoYmgMPTJoarGtKLOtYJhIWa9IVRkiR3zA5BRQBQQJHH9ppiCrdwk3MS3mIhCcPvwqiNgoa1Wzp+9q6GLcYbGTExNmgSnu3ClqgkvFwo37cJcOd/puOHBL5UnfA6ZuDgCEGSMCdzkoT83AiYQxME1MMGXn67g2/+cQdfe9PA5ABBi3E8XjalWZxmlScZlUZaSyTQeIMF3lsWQSS9YZZ1AmM8yCzymCyTYNdNT7Jsh4N175B6alYI9mUUDR0uVwABtgc3wY6Ix3pvoEHAbDSbqFYKKEiZst69TvsdS4FQJ+Pyury8hsc8/RjoP4LjI8cxHfExLklN2hr/GWxDbD8NgU+xXU49h+T3AymA3jISskRIR5ZbkN462SRf0oPLT63JuGu0uSHlQ/CuVVGt11BzOwnDjm45KikpKSkpKSkpKX22JF7+HonD30THoPNLh940ZW09fqezbS/bcF82rNlusLWcAwHR5/TCwy0SGMJAdAxhI4ftwiaWcutIFLewWCF5eQYwFBhE3OEg+okzbm82+Mk/W8/rYAtomaSeEKHvc18w8c5X+HkaiPcB2QqQLhHC5B08RuzwEvbOGvjC24SqADB/iVD4iY57W0CdYZp1oFQAMjmgXDWtNfSqvL4g3wlvLVkkTnq1usRh0kjZFSCSCUI0kkOrrGFnCbg8p8EzbOLs6ybOnQL2x2gj7ZThobKgfKuhoeOzZxTdIZSuZk0EGF4ma9kXYTEFTUyNmzgwZGCAth47ZeL1z5v48lcNfOUbjPNlYLQfhKWnl5Uh69u1SoTaFDL1IkptQjfrt9LMo1Avo9zqsK7vxyDlL/UpWbVrQ851z/ND2kSjLUsyJFm3i1jNb2DDDCMaGMNEaBrjgQGMePMoVdexnuO5bAJr22tII4pgeAT7w354LeKzpbEELYSzln7wwOtmG3LIjwFsHw4/Au4gfHqD0J5Bqso81HIoNpqsCxtidxvM4yRw2CYoshJLxSKKpTIBVd5B5b5MyFJjWbg8CAa8CLTLaKW2sLOTQjaXQWJ9EzuFIrSxGPxBN9wyBLRXDkpKSkpKSkpKSkqfET0EfCK7p88rwzHd4pxLT584uhYBUE7LEfe7Awg4XdYwTBkaJ71Bskh323QgGj2BY/u+iDMhE8n8DXy4/FP8auMS7jTC2DdyFq+NHcWUN4x+OvdeGSbqcDE9Dx17HW6HvF8WRNDlhstyskVP8eoJTIWEhtsfafiE2+XrwEqex0dgTdwy3m8SRGm1m0DlM9E/amDmlQ7e+KYBP0Hn1nUdH9/SkCQcFpKEwNsaLl4DlrnfaZlIrQK3rulY3NFQoR1er4kg43I4TbAI4GGcsiaeDNH0e4Ag8xwbIrQN8PqchuW7vHZZVjcE+gImIjIMk9mpNQiYvD4+Y+Ll1wihhNUDY7yGgLmxQtAkcU2/ZOLYNOMkQM5d13DpIvN4mXm8yzxmGYaQ+lRJl2O7StiZw+zWr3A5u4BloVrCabJ0F7PpBSwWyqiaPvhcAfhZn24ZfukKsj5Ytw43nKwPP9uC9e4mm4vRqaFYn8Ot5AWcXzmPS6kNVIKHcHzoEE4On8Fh1u+bIy50ardwbeN9vL92ER8ns/BEWe8Tp/F6PISwm+2LIBdkmj6HDCQV2T8wyOLv9qLsDvj8IxiLH8Kkv4Ni5Q6ubJ3HhcR1zOXLKDafNchSWo6BDiE3tTmHuTvcVjaQJDQm1hZw79YSltbyqOoB9O8bw9SQC77yOhavXcO1yxfw8WwC2yyXI68QYmNB+K17QElJSUlJSUlJSemzpQcWXhfp6KDRyFs9QS3POA4PzmA6EkVEVianzyuLb8sC3Q3Ti0j8OI4OjGDA67WGFgqWSe+Q0+mHzx1Cn9NAvp3BVnUV2WYT7tBreH3yHM7GYwjobeQcYUz1DfN6PwHKg0h0AqPOKlxOH7TAfpwaHEVc4hbwe4LDbRKckss6rpzXcXtBoxNvD6XEpIm33zLw2iFggJBVLwNpHp88algTuswME2wJTJUOP4M8Pk7LkxpmCXxX72ko8ZyfQOYiV8iaeb5+fhe0DRPcCHQnCHRG2bSGk0bGxQ7NmvFzZoZxyVDLkoYyIVIWdnf4NGvtvJFxAwcOEgYHNVQXHPiE9maKhEUWfb2qY/mWjnvzGnYaJoamgOFRIEo48xAck7R/c1PD6jZ4XoM3DgxGgMjTlmUg8BmtDLLZa7i0dQl3yzlkNR+C/ihhmnWueeHRPSxjN0pmCEP9UxgLhgjCLTiDhzEW8hLONHScUUzH9jGP61jO3WM8BTS1MvIGEdgzipNjX8Pb4/tZlxGEPT4MuAyWawGp+hbrooqycwxnp9/G5/Ydxn6/G452CelmCS7/BIH8GA7FBgib0sNnm221I8K41ePnCcE0Sii2koS1beTZjhzOAxjy+wnPTvsHgcc2DR4kQLbKGWwu3sbdhU2sp8to0zZZgqTK+tHZRgcnBhAJhBmXAxrbdXJzAxvbm0g5BhCdPIFzxyYxGPKwvOSdUztaJSUlJSUlJSUlpRdZj114XTZxtAX46rUd7JRTSLS8GAgMWWuwBbvT4ButMnLlBJKVMlrecYyG+xB1u3eBTyQ+sdmuoVLdwO3CKhK1LEwtgFjgBI70ERAdTdRqGSzUO4h6AvCCgCALv3v6Eexso9aqI4N+TIXlfcDewuuP97QF+DIJDQt3QMAApOPH9BPUCGWnZkyMRgE34S2fBubXCG2DJsYIUkFDQ2IFWE4T4kImDu0HPEUN6+vAWpIRM7tOB9Bi/E4vMEZg6+cxchdBGJhiGqUNBhMoZBqFFKGN4fsJhiGauiOLtPMYOQ5Rwtkwj0uPYSDGdAgzF//cif+TcKkPdvDVIwZifg2LF+2lJTBp4J/+tx28cZj25gi0jGs+zzSkV9DF/DCOKdozxc8+2vZYyXhHlpnRyqNQWsS9wjrSHRNtTXplZQIbEy7XCIZ9MUx4DOzUmvB4+xB28pr6Dsr6CIIOeQ+ziGyjjT7Ww+LKX+Nncx/hV/UZfH7mCKb742wfo9gfPYHJgB8eWQXeqKFdXcdcYQXr1QLKhg8e9ziOx2cwEgjBq7XRZN1vFJdQNL3wefdhLBCFl7R3H/ikJUnvLuGsWcZ2cR4rpS2kWRkOZwzDwdPYH5blQFxP4C/7eukxbFcInltsg+kKSg2D1/N4W85H0Dc4xHIcstt2NY/s9hY2NpIWVBp9+zAwOo5Dg8xXzzAlJSUlJSUlJSWlz4D2Lrz+CPCJdF2WXpCJKnikI8PsTBlw1z3rsGjRYb+Mhk7HnuRjr6xvhA2HDNdjsF1W4wmD8ck7b6buglNm6OxeK0CnSU+jBJahiCad/T02PUlyXuBV4Oxhydp5MtOmhNGYX2t5BX6X9OUdNbnGso371ruAjMdK3rr6QfXyIHFJWOkQ7UKzdbA3qajMhsnCIlhYZ2ztiVB2M8s6/vZ/c+BfEAgnznbwz143MBTQMHvBgY9uaUgFDPyjf9jB69I7SaCUZTAeJxZPr/gelXXCNkxzEJq7eXtEBF8JKrOdSqasCWVYUNb7lFImVn130Klv4OKt/xc/nruHu87v4394/W28MjJAWJJwBgFShmTygl56TMsqE5HEabUj1qmUgM4GyIYh5WddKzPkPCC5QP6KwQ6Cabd3TSTGsmLbMpNm99Cjun+9RiOczPzjfjCQtA2mLalrMmSV4Xomi2SiF8mXkpKSkpKSkpKS0mdJzwQ+cY33OtO2q/z0s3t1/+zecD09Gv7hI0+P/UE9EXgo69puBFawbljL9+/uP5AWjz8pvh4vPBC++9nT7rmH49gTUICikQduvevAX3ysIdkwMdlvWu+IZUo6OhETU6c7+Npr/OwHZLm5Z9n0WPUu2g30JEC6f14k/Woi+5v8JSzJbmsHtxf+Br9cXsS89hb+5NQ5nBqIIySzxvRkpcnvFjX24rB1PxV7z0ZKe+/+354evF7OPRrXg1c8qN719pXW370R7MrOrXXqcYG6ZWf/VVJSUlJSUlJSUvps6InAt1ePOtg9Pew5P9kdfjxiPBp+75Hnj93Wk2Cop11Q2xPOOsbvz7j0UT1kzBPtflzEewKbLOpiErh6S8P6tmb11FmzfwaB+LiJg4eAfTHAzzoSW5+Ux12We6bsCJ4nv4JA98P19ni0U0Eyexer+Swy2Iejg+MYCvgJpHv7xHp6Us33DH7YnvtnHtWz4nqWumk9LhJqb88fb4XuXlfdc8+bkpKSkpKSkpKSktKLoEeAT4Zlyqb0X0BCD7IZGnIpIJPVUG3IaEoTbgJfrN9EnLDntoY7PhlU/ktLk8l8mmVUWw204EfQI8sn2EN2lZSUlJSUlJSUlJReHMnrebKJLOCz9pSUlJSUlJSUlJSUlJT+oPS48XhKSkpKSkpKSkpKSkpKfwBSwKekpKSkpKSkpKSkpPQHKeD/B8jjeFzEqnHXAAAAAElFTkSuQmCC)\n",
        "\n",
        "  > Jawaban :"
      ],
      "metadata": {
        "id": "d5jgvwq8Oeks"
      }
    },
    {
      "cell_type": "markdown",
      "source": [
        "4. Apakah kegunaan “skimage import io” pada potongan kode soal nomor 3\n",
        "> Jawaban :\n",
        "\n"
      ],
      "metadata": {
        "id": "sruC5mmBO3je"
      }
    },
    {
      "cell_type": "markdown",
      "source": [
        "### TUGAS\n",
        "\n",
        "Berdasarkan praktikum bagian 1 dan 2 kerjakan beberapa tugas berikut :"
      ],
      "metadata": {
        "id": "FIp_kcjBPBLQ"
      }
    },
    {
      "cell_type": "markdown",
      "source": [
        "1. Dengan menggunakan figsize, perhatikan apakah ukuran image pixelnya juga\n",
        "berubah?"
      ],
      "metadata": {
        "id": "oB_xy1k9PGxl"
      }
    },
    {
      "cell_type": "markdown",
      "source": [
        "2. Tampilkan image dalam channel Red-Blue dan Green-Blue saja!"
      ],
      "metadata": {
        "id": "eIt3GRscPM8-"
      }
    },
    {
      "cell_type": "markdown",
      "source": [
        "3. Tampilkan image baris ke 20-115, kolom 25-120!"
      ],
      "metadata": {
        "id": "MK5bDTenPPZz"
      }
    },
    {
      "cell_type": "markdown",
      "source": [
        "4. Tampilkan image baris ke 5-30, semua kolom, channel Red saja!"
      ],
      "metadata": {
        "id": "pIxFf6qoPRZF"
      }
    },
    {
      "cell_type": "markdown",
      "source": [
        "5. Buat 5 kotak berbagai ukuran dan warna yang berbeda dalam satu image.\n",
        "disarankan menggunakan bilangan acak/random!"
      ],
      "metadata": {
        "id": "6mL8Q_wJPUEm"
      }
    },
    {
      "cell_type": "markdown",
      "source": [
        "6. Tampilkan image dengan posisi terbalik!"
      ],
      "metadata": {
        "id": "q1cqeAzHPWnT"
      }
    },
    {
      "cell_type": "markdown",
      "source": [
        "Berdasarkan praktikum bagian 3 dan 4 kerjakan beberapa tugas berikut :"
      ],
      "metadata": {
        "id": "y_igZN2IPaBd"
      }
    },
    {
      "cell_type": "markdown",
      "source": [
        "7. Buat rectangle dan circle pada bagian wajah dari image foto anda saat\n",
        "beraktifitas (bukan pasfoto)."
      ],
      "metadata": {
        "id": "kRnAReXfPbgy"
      }
    },
    {
      "cell_type": "markdown",
      "source": [
        "8. Buat rectangle pada bagian sudut bawah kiri channel B pada color space RGB\n",
        "dari citra kitten/ lena/ mandrill/ male/ female/ couple/ sailboat/ peppers!"
      ],
      "metadata": {
        "id": "FQ7pXV3cPdeE"
      }
    },
    {
      "cell_type": "markdown",
      "source": [
        "9. Lengkapi tulisan nama file pada file citra dari soal no.8. gunakan font, ukuran\n",
        "font, dan warna font yang sesuai keinginan anda."
      ],
      "metadata": {
        "id": "qtQKy58uPi9r"
      }
    }
  ]
}